{
 "cells": [
  {
   "cell_type": "code",
   "execution_count": 9,
   "metadata": {},
   "outputs": [],
   "source": [
    "import json\n",
    "\n",
    "# dataset = json.load(open('../data/datasets/conll04/conll04_test_clean.json'))\n",
    "dataset = json.load(open('../data/datasets/scierc/scierc_test.json'))\n",
    "\n",
    "rel_head_dict = {}\n",
    "rel_tail_dict = {}\n",
    "\n",
    "rels = set()\n",
    "ents = set()\n",
    "\n",
    "for data in dataset:\n",
    "    for ent in data['entities']:\n",
    "        ents.add(ent['type'])\n",
    "    \n",
    "    for rel in data['relations']:\n",
    "        rels.add(rel['type'])\n",
    "\n",
    "        if rel['type'] not in rel_head_dict:\n",
    "            rel_head_dict[rel['type']] = {}\n",
    "        if rel['type'] not in rel_tail_dict:\n",
    "            rel_tail_dict[rel['type']] = {}\n",
    "        \n",
    "        head_ent_type = data['entities'][rel['head']]['type']\n",
    "        tail_ent_type = data['entities'][rel['tail']]['type']\n",
    "\n",
    "        rel_head_dict[rel['type']][head_ent_type] = rel_head_dict[rel['type']].get(head_ent_type, 0) + 1\n",
    "        rel_tail_dict[rel['type']][tail_ent_type] = rel_tail_dict[rel['type']].get(tail_ent_type, 0) + 1\n",
    "    \n",
    "rels = sorted(rels)\n",
    "ents = sorted(ents)"
   ]
  },
  {
   "cell_type": "code",
   "execution_count": 10,
   "metadata": {},
   "outputs": [],
   "source": [
    "import numpy as np\n",
    "\n",
    "rel_head_m = np.zeros((len(rels), len(ents)), dtype=np.float32)\n",
    "rel_tail_m = np.zeros((len(rels), len(ents)), dtype=np.float32)\n",
    "\n",
    "for rel_idx, rel_type in enumerate(rels):\n",
    "    rel_head_sum = sum(rel_head_dict[rel_type].values())\n",
    "    rel_tail_sum = sum(rel_tail_dict[rel_type].values())\n",
    "    for ent_idx, ent_type in enumerate(ents):\n",
    "        rel_head_m[rel_idx, ent_idx] = rel_head_dict[rel_type].get(ent_type, 0) / rel_head_sum\n",
    "        rel_tail_m[rel_idx, ent_idx] = rel_tail_dict[rel_type].get(ent_type, 0) / rel_tail_sum"
   ]
  },
  {
   "cell_type": "code",
   "execution_count": 8,
   "metadata": {},
   "outputs": [
    {
     "name": "stdout",
     "output_type": "stream",
     "text": [
      "['Kill', 'Live_In', 'Located_In', 'OrgBased_In', 'Work_For']\n",
      "['Loc', 'Org', 'Other', 'Peop']\n",
      "[[0. 0. 0. 1.]\n",
      " [0. 0. 0. 1.]\n",
      " [1. 0. 0. 0.]\n",
      " [0. 1. 0. 0.]\n",
      " [0. 0. 0. 1.]]\n",
      "[[0. 0. 0. 1.]\n",
      " [1. 0. 0. 0.]\n",
      " [1. 0. 0. 0.]\n",
      " [1. 0. 0. 0.]\n",
      " [0. 1. 0. 0.]]\n"
     ]
    }
   ],
   "source": [
    "print(rels)\n",
    "print(ents)\n",
    "print(rel_head_m)\n",
    "print(rel_tail_m)"
   ]
  },
  {
   "cell_type": "code",
   "execution_count": 11,
   "metadata": {},
   "outputs": [
    {
     "name": "stdout",
     "output_type": "stream",
     "text": [
      "['Compare', 'Conjunction', 'Evaluate-for', 'Feature-of', 'Hyponym-of', 'Part-of', 'Used-for']\n",
      "['Generic', 'Material', 'Method', 'Metric', 'OtherScientificTerm', 'Task']\n",
      "[[0.39473686 0.02631579 0.5263158  0.         0.05263158 0.        ]\n",
      " [0.0406504  0.06504065 0.24390244 0.04878049 0.41463414 0.18699187]\n",
      " [0.06593407 0.34065935 0.01098901 0.46153846 0.05494506 0.06593407]\n",
      " [0.         0.03389831 0.01694915 0.06779661 0.84745765 0.03389831]\n",
      " [0.05970149 0.20895523 0.35820895 0.05970149 0.20895523 0.10447761]\n",
      " [0.03174603 0.07936508 0.2857143  0.         0.44444445 0.15873016]\n",
      " [0.19699812 0.08442777 0.3846154  0.01313321 0.25891182 0.0619137 ]]\n",
      "[[0.28947368 0.05263158 0.55263156 0.         0.10526316 0.        ]\n",
      " [0.02439024 0.08130081 0.24390244 0.04878049 0.40650406 0.19512194]\n",
      " [0.37362638 0.01098901 0.4065934  0.03296703 0.10989011 0.06593407]\n",
      " [0.08474576 0.18644068 0.18644068 0.08474576 0.3220339  0.13559322]\n",
      " [0.25373134 0.05970149 0.37313432 0.05970149 0.10447761 0.14925373]\n",
      " [0.25396827 0.14285715 0.3015873  0.         0.11111111 0.1904762 ]\n",
      " [0.11819887 0.05253283 0.20262665 0.00938086 0.25703564 0.36022514]]\n"
     ]
    }
   ],
   "source": [
    "print(rels)\n",
    "print(ents)\n",
    "print(rel_head_m)\n",
    "print(rel_tail_m)"
   ]
  }
 ],
 "metadata": {
  "interpreter": {
   "hash": "0a54d1cfe91786e0a8b5e14a25c7cd69462febbee065aea8c153df83b0cc32b6"
  },
  "kernelspec": {
   "display_name": "Python 3.9.5 ('base')",
   "language": "python",
   "name": "python3"
  },
  "language_info": {
   "codemirror_mode": {
    "name": "ipython",
    "version": 3
   },
   "file_extension": ".py",
   "mimetype": "text/x-python",
   "name": "python",
   "nbconvert_exporter": "python",
   "pygments_lexer": "ipython3",
   "version": "3.9.5"
  },
  "orig_nbformat": 4
 },
 "nbformat": 4,
 "nbformat_minor": 2
}
