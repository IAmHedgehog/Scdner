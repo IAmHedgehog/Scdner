{
 "cells": [
  {
   "cell_type": "code",
   "execution_count": 1,
   "metadata": {},
   "outputs": [],
   "source": [
    "import networkx as nx\n",
    "import matplotlib.pyplot as plt\n",
    "import json\n",
    "import spacy\n",
    "from spacy.tokens import Doc\n",
    "from spanUtil import get_ent_spans\n",
    "\n",
    "parser = spacy.load('en_core_web_trf')\n",
    "\n",
    "plt.rcParams['figure.dpi'] = 300\n",
    "\n",
    "\n",
    "def build_g(tokens, ents):\n",
    "    g = nx.Graph()\n",
    "    start = len(g.nodes())\n",
    "    idx = 0\n",
    "    dic = {}\n",
    "    for token in tokens:\n",
    "        g.add_node(\n",
    "            start+idx, text=token.text, tag=token.tag_,\n",
    "            pos=token.pos_, dep=token.dep_)\n",
    "        dic[token] = start + idx\n",
    "        idx += 1\n",
    "    \n",
    "    for token in tokens:\n",
    "        if token != token.head:\n",
    "            g.add_edge(dic[token], dic[token.head], dep=token.dep_)\n",
    "\n",
    "    for ent_s, ent_e in ents:\n",
    "        if ent_e - ent_s <= 1:\n",
    "            continue\n",
    "        \n",
    "        text = ' '.join([t.text for t in tokens[ent_s: ent_e]])\n",
    "        g.add_node(\n",
    "            start+idx, text=text, tag=None, pos=None, dep=None)\n",
    "        dic[(ent_s, ent_e)] = start + idx\n",
    "\n",
    "        for e_idx in range(ent_s, ent_e):\n",
    "            g.add_edge(idx, e_idx, dep='ent_node')\n",
    "        \n",
    "        idx += 1\n",
    "\n",
    "    return g\n",
    "\n",
    "\n",
    "def draw_graph(G, words_cnt):\n",
    "    pos = nx.kamada_kawai_layout(G)\n",
    "    node_colors = ['gray'] * words_cnt + ['green'] * (len(G.nodes)-words_cnt)\n",
    "    # edge_color = ['gray'] * len(G.edges)\n",
    "    edge_color = ['gray' if max(e_1, e_2) < words_cnt else 'green' for e_1, e_2 in G.edges]\n",
    "    node_labels = nx.get_node_attributes(G, 'text')\n",
    "    nx.draw_networkx(\n",
    "        G, pos, node_size=40, labels=node_labels, font_size=4,\n",
    "        node_color=node_colors, font_color='black', edge_color=edge_color)\n",
    "    plt.show()\n",
    "\n"
   ]
  },
  {
   "cell_type": "code",
   "execution_count": 2,
   "metadata": {},
   "outputs": [
    {
     "name": "stdout",
     "output_type": "stream",
     "text": [
      "COLUMBIA , S.C. _ Jesse Jackson on Sunday was touting his big win in his native South Carolina , while officials struggled to count the final ballots after a record turnout at Democratic caucuses.\n"
     ]
    },
    {
     "name": "stderr",
     "output_type": "stream",
     "text": [
      "/Users/hygao/opt/miniconda3/lib/python3.9/site-packages/torch/autocast_mode.py:141: UserWarning: User provided device_type of 'cuda', but CUDA is not available. Disabling\n",
      "  warnings.warn('User provided device_type of \\'cuda\\', but CUDA is not available. Disabling')\n"
     ]
    },
    {
     "name": "stdout",
     "output_type": "stream",
     "text": [
      "extracted spans:  [(0, 1), (0, 3), (2, 3), (4, 6), (4, 5), (5, 6), (7, 8), (16, 17), (16, 18), (17, 18), (32, 34), (32, 33)]\n",
      "['COLUMBIA', 'COLUMBIA , S.C.', 'S.C.', 'Jesse Jackson', 'Jesse', 'Jackson', 'Sunday', 'South', 'South Carolina', 'Carolina', 'Democratic caucuses.', 'Democratic']\n",
      "(38, 38)\n",
      "  (0, 1)\t1\n",
      "  (0, 2)\t1\n",
      "  (0, 3)\t1\n",
      "  (0, 9)\t1\n",
      "  (0, 34)\t1\n",
      "  (1, 0)\t1\n",
      "  (1, 34)\t1\n",
      "  (2, 0)\t1\n",
      "  (2, 34)\t1\n",
      "  (3, 0)\t1\n",
      "  (4, 5)\t1\n",
      "  (4, 35)\t1\n",
      "  (5, 4)\t1\n",
      "  (5, 9)\t1\n",
      "  (5, 35)\t1\n",
      "  (6, 7)\t1\n",
      "  (6, 9)\t1\n",
      "  (7, 6)\t1\n",
      "  (8, 9)\t1\n",
      "  (9, 0)\t1\n",
      "  (9, 5)\t1\n",
      "  (9, 6)\t1\n",
      "  (9, 8)\t1\n",
      "  (9, 12)\t1\n",
      "  (9, 18)\t1\n",
      "  :\t:\n",
      "  (26, 25)\t1\n",
      "  (27, 23)\t1\n",
      "  (27, 30)\t1\n",
      "  (28, 30)\t1\n",
      "  (29, 30)\t1\n",
      "  (30, 27)\t1\n",
      "  (30, 28)\t1\n",
      "  (30, 29)\t1\n",
      "  (30, 31)\t1\n",
      "  (31, 30)\t1\n",
      "  (31, 33)\t1\n",
      "  (32, 33)\t1\n",
      "  (32, 37)\t1\n",
      "  (33, 31)\t1\n",
      "  (33, 32)\t1\n",
      "  (33, 37)\t1\n",
      "  (34, 0)\t1\n",
      "  (34, 1)\t1\n",
      "  (34, 2)\t1\n",
      "  (35, 4)\t1\n",
      "  (35, 5)\t1\n",
      "  (36, 16)\t1\n",
      "  (36, 17)\t1\n",
      "  (37, 32)\t1\n",
      "  (37, 33)\t1\n"
     ]
    }
   ],
   "source": [
    "dataset = json.load(open('../data/datasets/conll04/conll04_test_clean.json'))\n",
    "\n",
    "data = dataset[255]\n",
    "words = data['tokens']\n",
    "\n",
    "print(' '.join(words))\n",
    "\n",
    "doc = Doc(parser.vocab, words=words)\n",
    "tokens = parser(doc)\n",
    "spans = sorted(get_ent_spans(tokens), key=lambda x: x[0])\n",
    "\n",
    "print('extracted spans: ', spans)\n",
    "print([' '.join(words[span_s: span_e]) for span_s, span_e in spans])\n",
    "\n",
    "g = build_g(tokens, spans)\n",
    "\n",
    "A = nx.adjacency_matrix(g)\n",
    "\n",
    "print(A.shape)\n",
    "\n",
    "print(A.todense())\n",
    "\n",
    "# draw_graph(g, len(tokens))\n"
   ]
  },
  {
   "cell_type": "code",
   "execution_count": 45,
   "metadata": {},
   "outputs": [
    {
     "name": "stdout",
     "output_type": "stream",
     "text": [
      "[(0, 1), (1, 2), (1, 3), (1, 5), (1, 11), (1, 18), (1, 31), (3, 4), (5, 10), (6, 10), (7, 10), (8, 9), (8, 35), (8, 38), (9, 10), (9, 32), (9, 35), (9, 38), (10, 32), (10, 35), (11, 13), (12, 13), (13, 14), (14, 17), (15, 17), (15, 40), (16, 17), (16, 37), (16, 40), (17, 37), (17, 40), (18, 19), (19, 20), (19, 21), (19, 22), (19, 23), (19, 30), (19, 33), (19, 36), (20, 33), (20, 36), (21, 36), (22, 36), (24, 25), (24, 34), (25, 30), (25, 34), (26, 30), (27, 28), (27, 39), (28, 30), (28, 39), (29, 30)]\n"
     ]
    }
   ],
   "source": [
    "print(g.edges)"
   ]
  }
 ],
 "metadata": {
  "interpreter": {
   "hash": "0a54d1cfe91786e0a8b5e14a25c7cd69462febbee065aea8c153df83b0cc32b6"
  },
  "kernelspec": {
   "display_name": "Python 3.9.5 ('base')",
   "language": "python",
   "name": "python3"
  },
  "language_info": {
   "codemirror_mode": {
    "name": "ipython",
    "version": 3
   },
   "file_extension": ".py",
   "mimetype": "text/x-python",
   "name": "python",
   "nbconvert_exporter": "python",
   "pygments_lexer": "ipython3",
   "version": "3.9.5"
  },
  "orig_nbformat": 4
 },
 "nbformat": 4,
 "nbformat_minor": 2
}
