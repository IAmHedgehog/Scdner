{
 "cells": [
  {
   "cell_type": "code",
   "execution_count": 25,
   "metadata": {},
   "outputs": [
    {
     "name": "stdout",
     "output_type": "stream",
     "text": [
      "5 4 (5, 4)\n"
     ]
    }
   ],
   "source": [
    "import json\n",
    "import numpy as np\n",
    "\n",
    "data = json.load(open('../data/datasets/conll04/conll04_train_dev_clean.json'))\n",
    "# data = json.load(open('../data/datasets/scierc/scierc_train_dev.json'))\n",
    "\n",
    "rel_head_dict = {}\n",
    "rel_tail_dict = {}\n",
    "rels = set()\n",
    "ents = set()\n",
    "\n",
    "for cur_d in data:\n",
    "    for ent in cur_d['entities']:\n",
    "        ents.add(ent['type'])\n",
    "\n",
    "    for rel in cur_d['relations']:\n",
    "        rels.add(rel['type'])\n",
    "        if rel['type'] not in rel_head_dict:\n",
    "            rel_head_dict[rel['type']] = {}\n",
    "        if rel['type'] not in rel_tail_dict:\n",
    "            rel_tail_dict[rel['type']] = {}\n",
    "        \n",
    "        head_ent_type = cur_d['entities'][rel['head']]['type']\n",
    "        tail_ent_type = cur_d['entities'][rel['tail']]['type']\n",
    "\n",
    "        if head_ent_type not in rel_head_dict[rel['type']]:\n",
    "            rel_head_dict[rel['type']][head_ent_type] = 0\n",
    "        rel_head_dict[rel['type']][head_ent_type] += 1\n",
    "        if tail_ent_type not in rel_tail_dict[rel['type']]:\n",
    "            rel_tail_dict[rel['type']][tail_ent_type] = 0\n",
    "        rel_tail_dict[rel['type']][tail_ent_type] += 1\n",
    "    \n",
    "rels = list(rels)\n",
    "ents = list(ents)\n",
    "\n",
    "rel_head_prior = np.zeros((len(rels), len(ents)), np.float32)\n",
    "rel_tail_prior = np.zeros((len(rels), len(ents)), np.float32)\n",
    "\n",
    "print(len(rels), len(ents), rel_head_prior.shape)\n",
    "\n",
    "for rel_idx, rel in enumerate(rels):\n",
    "    cur_rel_head_sum = sum(rel_head_dict[rel].values())\n",
    "    for ent_idx, ent in enumerate(ents):\n",
    "        rel_head_prior[rel_idx, ent_idx] = rel_head_dict[rel].get(ent, 0) / cur_rel_head_sum\n",
    "\n",
    "for rel_idx, rel in enumerate(rels):\n",
    "    cur_rel_tail_sum = sum(rel_tail_dict[rel].values())\n",
    "    for ent_idx, ent in enumerate(ents):\n",
    "        rel_tail_prior[rel_idx, ent_idx] = rel_tail_dict[rel].get(ent, 0) / cur_rel_tail_sum"
   ]
  },
  {
   "cell_type": "code",
   "execution_count": 26,
   "metadata": {},
   "outputs": [
    {
     "name": "stdout",
     "output_type": "stream",
     "text": [
      "['Kill', 'Work_For', 'Live_In', 'OrgBased_In', 'Located_In']\n",
      "['Org', 'Loc', 'Peop', 'Other']\n",
      "[[0. 0. 1. 0.]\n",
      " [0. 0. 1. 0.]\n",
      " [0. 0. 1. 0.]\n",
      " [1. 0. 0. 0.]\n",
      " [0. 1. 0. 0.]]\n",
      "[[0. 0. 1. 0.]\n",
      " [1. 0. 0. 0.]\n",
      " [0. 1. 0. 0.]\n",
      " [0. 1. 0. 0.]\n",
      " [0. 1. 0. 0.]]\n"
     ]
    }
   ],
   "source": [
    "print(rels)\n",
    "print(ents)\n",
    "print(rel_head_prior)\n",
    "print(rel_tail_prior)"
   ]
  }
 ],
 "metadata": {
  "interpreter": {
   "hash": "2723fd6360627580836bdb3cee1e3003e73373d537f1b73543755c25c08e8b1c"
  },
  "kernelspec": {
   "display_name": "Python 3.8.5 ('base')",
   "language": "python",
   "name": "python3"
  },
  "language_info": {
   "codemirror_mode": {
    "name": "ipython",
    "version": 3
   },
   "file_extension": ".py",
   "mimetype": "text/x-python",
   "name": "python",
   "nbconvert_exporter": "python",
   "pygments_lexer": "ipython3",
   "version": "3.8.5"
  },
  "orig_nbformat": 4
 },
 "nbformat": 4,
 "nbformat_minor": 2
}
