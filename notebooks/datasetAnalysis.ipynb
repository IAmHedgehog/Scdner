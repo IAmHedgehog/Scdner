{
 "cells": [
  {
   "cell_type": "code",
   "execution_count": 4,
   "metadata": {},
   "outputs": [],
   "source": [
    "import json\n",
    "\n",
    "data = json.load(open('../data/datasets/scierc/scierc_tain_dev_new_doc.json'))\n",
    "\n",
    "stats = []\n",
    "\n",
    "for doc in data:\n",
    "    tokens = []\n",
    "    for token in doc['tokens']:\n",
    "        tokens.extend(token)\n",
    "    # sent_len = [len(token) for token in doc['tokens']]\n",
    "    # sent_diff = [0]\n",
    "    # for sent_l in sent_len:\n",
    "    #     sent_diff.append(sent_diff[-1]+sent_l)\n",
    "    doc_stat = {}\n",
    "    for ent in doc['entities']:\n",
    "        phrase = ' '.join(tokens[ent['start']: ent['end']])\n",
    "        if phrase not in doc_stat:\n",
    "            doc_stat[phrase] = {}\n",
    "        doc_stat[phrase][ent['type']] = doc_stat[phrase].get(ent['type'], 0) + 1\n",
    "    stats.append(doc_stat)\n",
    "\n",
    "json.dump(stats, open('SciERT_stats.json', 'w'))\n"
   ]
  },
  {
   "cell_type": "code",
   "execution_count": 9,
   "metadata": {},
   "outputs": [
    {
     "name": "stdout",
     "output_type": "stream",
     "text": [
      "number of entities:  5711\n",
      "number of mentions:  6409\n",
      "number of entities with more than 1 mention:  565\n",
      "number of inconsistency:  29\n"
     ]
    }
   ],
   "source": [
    "import json\n",
    "\n",
    "stats = json.load(open('SciERT_stats.json'))\n",
    "\n",
    "inconsistency = []\n",
    "entity_cnt = 0\n",
    "dup_entity_cnt = 0\n",
    "mention_cnt = 0\n",
    "\n",
    "for doc_id, stat in enumerate(stats):\n",
    "    for phrase, values in stat.items():\n",
    "        entity_cnt += len(values)\n",
    "        cur_mention_cnt = sum([value for value in values.values()])\n",
    "        mention_cnt += cur_mention_cnt\n",
    "        if cur_mention_cnt > 1:\n",
    "            dup_entity_cnt += 1\n",
    "        if len(values) > 1:\n",
    "            inconsistency.append({'doc_id': doc_id, 'phrase': phrase, 'values': values})\n",
    "\n",
    "print('number of entities: ', entity_cnt)\n",
    "print('number of mentions: ', mention_cnt)\n",
    "print('number of entities with more than 1 mention: ', dup_entity_cnt)\n",
    "print('number of inconsistency: ', len(inconsistency))\n",
    "\n",
    "json.dump(inconsistency, open('SciERT_inconsist_stats.json', 'w'))"
   ]
  }
 ],
 "metadata": {
  "interpreter": {
   "hash": "2723fd6360627580836bdb3cee1e3003e73373d537f1b73543755c25c08e8b1c"
  },
  "kernelspec": {
   "display_name": "Python 3.8.5 ('base')",
   "language": "python",
   "name": "python3"
  },
  "language_info": {
   "codemirror_mode": {
    "name": "ipython",
    "version": 3
   },
   "file_extension": ".py",
   "mimetype": "text/x-python",
   "name": "python",
   "nbconvert_exporter": "python",
   "pygments_lexer": "ipython3",
   "version": "3.8.5"
  },
  "orig_nbformat": 4
 },
 "nbformat": 4,
 "nbformat_minor": 2
}
