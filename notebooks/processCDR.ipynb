{
 "cells": [
  {
   "cell_type": "code",
   "execution_count": 4,
   "metadata": {},
   "outputs": [
    {
     "name": "stderr",
     "output_type": "stream",
     "text": [
      "100%|██████████| 500/500 [00:00<00:00, 75369.34it/s]"
     ]
    },
    {
     "name": "stdout",
     "output_type": "stream",
     "text": [
      "500\n"
     ]
    },
    {
     "name": "stderr",
     "output_type": "stream",
     "text": [
      "\n"
     ]
    }
   ],
   "source": [
    "import json\n",
    "import tqdm\n",
    "\n",
    "# key = 'train'\n",
    "# key = 'test'\n",
    "key = 'dev'\n",
    "file_name = '../data/datasets/cdr/CDR_%s_data.json' % key\n",
    "\n",
    "data = json.load(open(file_name))\n",
    "docs = []\n",
    "\n",
    "for doc in tqdm.tqdm(data):\n",
    "    sents = doc['sents']\n",
    "    entities = []\n",
    "    relations = []\n",
    "    word_diff = [0]\n",
    "    for sent in sents:\n",
    "        word_diff.append(word_diff[-1] + len(sent))\n",
    "    for ent in doc['vertexSet']:\n",
    "        for mention in ent:\n",
    "            start = mention['pos'][0] + word_diff[mention['sent_id']]\n",
    "            end = mention['pos'][1] + word_diff[mention['sent_id']]\n",
    "            entities.append({'start': start, 'end': end, 'type': mention['type'], 'sent_id': mention['sent_id']})\n",
    "    docs.append({'tokens': sents, 'entities': entities, 'relations': relations})\n",
    "print(len(docs))\n",
    "json.dump(docs, open('../data/datasets/cdr/new_doc_%s.json' % key, 'w'))"
   ]
  },
  {
   "cell_type": "code",
   "execution_count": 5,
   "metadata": {},
   "outputs": [],
   "source": [
    "train_file_name = '../data/datasets/cdr/new_doc_train.json'\n",
    "dev_file_name = '../data/datasets/cdr/new_doc_dev.json'\n",
    "save_file_name = '../data/datasets/cdr/new_doc_train_dev.json'\n",
    "\n",
    "train_data = json.load(open(train_file_name))\n",
    "dev_data = json.load(open(dev_file_name))\n",
    "\n",
    "json.dump(train_data + dev_data, open(save_file_name, 'w'))"
   ]
  },
  {
   "cell_type": "code",
   "execution_count": 7,
   "metadata": {},
   "outputs": [
    {
     "name": "stdout",
     "output_type": "stream",
     "text": [
      "====== 20\n",
      "====== 15\n",
      "====== 12\n"
     ]
    }
   ],
   "source": [
    "import json\n",
    "\n",
    "train_file_name = '../data/datasets/cdr/new_doc_train.json'\n",
    "dev_file_name = '../data/datasets/cdr/new_doc_dev.json'\n",
    "test_file_name = '../data/datasets/cdr/new_doc_test.json'\n",
    "\n",
    "train_data = json.load(open(train_file_name))\n",
    "dev_data = json.load(open(dev_file_name))\n",
    "test_data = json.load(open(test_file_name))\n",
    "\n",
    "for data in [train_data, dev_data, test_data]:\n",
    "    max_span_len = 0\n",
    "    for doc in data:\n",
    "        for ent in doc['entities']:\n",
    "            max_span_len = max(max_span_len, ent['end'] - ent['start'])\n",
    "    print('======', max_span_len)"
   ]
  }
 ],
 "metadata": {
  "kernelspec": {
   "display_name": "Python 3.8.5 ('base')",
   "language": "python",
   "name": "python3"
  },
  "language_info": {
   "codemirror_mode": {
    "name": "ipython",
    "version": 3
   },
   "file_extension": ".py",
   "mimetype": "text/x-python",
   "name": "python",
   "nbconvert_exporter": "python",
   "pygments_lexer": "ipython3",
   "version": "3.8.5"
  },
  "orig_nbformat": 4,
  "vscode": {
   "interpreter": {
    "hash": "2723fd6360627580836bdb3cee1e3003e73373d537f1b73543755c25c08e8b1c"
   }
  }
 },
 "nbformat": 4,
 "nbformat_minor": 2
}
